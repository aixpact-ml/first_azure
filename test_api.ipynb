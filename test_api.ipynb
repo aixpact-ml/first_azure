{
 "cells": [
  {
   "cell_type": "markdown",
   "metadata": {},
   "source": [
    "# Test localhost"
   ]
  },
  {
   "cell_type": "code",
   "execution_count": null,
   "metadata": {},
   "outputs": [],
   "source": [
    "import requests"
   ]
  },
  {
   "cell_type": "code",
   "execution_count": null,
   "metadata": {},
   "outputs": [],
   "source": [
    "!curl http://0.0.0.0:8241/hello?name='frankie'"
   ]
  },
  {
   "cell_type": "code",
   "execution_count": null,
   "metadata": {},
   "outputs": [],
   "source": [
    "!curl http://0.0.0.0:8241/hello/frankie"
   ]
  },
  {
   "cell_type": "code",
   "execution_count": null,
   "metadata": {},
   "outputs": [],
   "source": [
    "https = !curl http://0.0.0.0:8241/upload_form\n",
    "https"
   ]
  },
  {
   "cell_type": "code",
   "execution_count": null,
   "metadata": {},
   "outputs": [],
   "source": [
    "from IPython.core.display import display, HTML\n",
    "display(HTML(https))"
   ]
  },
  {
   "cell_type": "code",
   "execution_count": null,
   "metadata": {},
   "outputs": [],
   "source": [
    "class Foo:\n",
    "    def __init__(self, html):\n",
    "        self.html = html\n",
    "        self._repr_html_()\n",
    "        \n",
    "    def _repr_html_(self):\n",
    "        return self.html\n",
    "\n",
    "o = Foo(\"Hello <b>World</b>!\")\n",
    "o"
   ]
  },
  {
   "cell_type": "code",
   "execution_count": null,
   "metadata": {},
   "outputs": [],
   "source": [
    "%%HTTP\n",
    "http"
   ]
  },
  {
   "cell_type": "code",
   "execution_count": null,
   "metadata": {},
   "outputs": [],
   "source": [
    "%run algo"
   ]
  },
  {
   "cell_type": "code",
   "execution_count": null,
   "metadata": {},
   "outputs": [],
   "source": [
    "!curl http://localhost:7071/api/HttpTrigger"
   ]
  },
  {
   "cell_type": "code",
   "execution_count": null,
   "metadata": {},
   "outputs": [],
   "source": [
    "!curl https://hello-aixpact.azurewebsites.net/api/HttpTrigger?name=Frank"
   ]
  },
  {
   "cell_type": "code",
   "execution_count": null,
   "metadata": {},
   "outputs": [],
   "source": [
    "!curl -F file=@/home/jovyan/aixpact/project/sales1.csv -X POST https://hello-aixpact.azurewebsites.net/api/HttpTrigger"
   ]
  },
  {
   "cell_type": "code",
   "execution_count": null,
   "metadata": {},
   "outputs": [],
   "source": [
    "!curl -F file=@/home/jovyan/aixpact/project/sales1.csv https://hello-aixpact.azurewebsites.net/api/HttpTrigger"
   ]
  },
  {
   "cell_type": "code",
   "execution_count": null,
   "metadata": {},
   "outputs": [],
   "source": [
    "!curl -F file=@/home/jovyan/aixpact/project/daily-min-temperatures.csv https://hello-aixpact.azurewebsites.net/api/ForecastAPI"
   ]
  },
  {
   "cell_type": "code",
   "execution_count": null,
   "metadata": {},
   "outputs": [],
   "source": [
    "# Content-Type:text/html;charset=UTF-8\n",
    "# Content-Type:multipart/form-data;boundary=something\n",
    "# Content-Type:text/plain\n",
    "# Content-Type:application/json\n",
    "# https://developer.mozilla.org/en-US/docs/Web/HTTP/Methods/POST\n",
    "# The HTTP POST method sends data to the server. \n",
    "# The type of the body of the request is indicated by the Content-Type header.\n",
    "# -H 'Content-Type:application/json'"
   ]
  },
  {
   "cell_type": "code",
   "execution_count": null,
   "metadata": {},
   "outputs": [],
   "source": [
    "!curl -F file=@/home/jovyan/aixpact/project/sales1.csv -X POST https://hello-aixpact.azurewebsites.net/api/HttpTrigger"
   ]
  },
  {
   "cell_type": "code",
   "execution_count": null,
   "metadata": {},
   "outputs": [],
   "source": [
    "bt = b'some\\r\\n\\r\\nsomemore'\n",
    "bt.split(b'\\r\\n\\r\\n')"
   ]
  },
  {
   "cell_type": "code",
   "execution_count": null,
   "metadata": {},
   "outputs": [],
   "source": [
    "!curl -d '{\"name\": \"foobar\"}' -X POST https://hello-aixpact.azurewebsites.net/api/HttpTrigger"
   ]
  },
  {
   "cell_type": "code",
   "execution_count": null,
   "metadata": {},
   "outputs": [],
   "source": [
    "!curl https://aixpact.azurewebsites.net"
   ]
  },
  {
   "cell_type": "code",
   "execution_count": null,
   "metadata": {},
   "outputs": [],
   "source": [
    "!curl -F file=@/home/jovyan/aixpact/project/sales1.csv http://www.aixpact.ml/api/HttpTrigger"
   ]
  },
  {
   "cell_type": "code",
   "execution_count": null,
   "metadata": {},
   "outputs": [],
   "source": [
    "!curl https://ebbers.ml?name=Frank"
   ]
  },
  {
   "cell_type": "code",
   "execution_count": null,
   "metadata": {},
   "outputs": [],
   "source": [
    "# Test local server 8241\n",
    "response = requests.get('http://0.0.0.0:8241')\n",
    "print(response.text)"
   ]
  },
  {
   "cell_type": "code",
   "execution_count": null,
   "metadata": {},
   "outputs": [],
   "source": [
    "# Test API server\n",
    "response = requests.get('https://aixpact.azurewebsites.net/files')\n",
    "print(response.text)"
   ]
  },
  {
   "cell_type": "code",
   "execution_count": null,
   "metadata": {},
   "outputs": [],
   "source": [
    "# # Test API server\n",
    "# response = requests.post('https://aixpact.azurewebsites.net/upload', )\n",
    "# print(response.text)"
   ]
  },
  {
   "cell_type": "code",
   "execution_count": null,
   "metadata": {},
   "outputs": [],
   "source": [
    "!curl http://0.0.0.0:8241/files"
   ]
  },
  {
   "cell_type": "code",
   "execution_count": null,
   "metadata": {},
   "outputs": [],
   "source": [
    "!curl http://0.0.0.0:8241/upload"
   ]
  },
  {
   "cell_type": "code",
   "execution_count": null,
   "metadata": {},
   "outputs": [],
   "source": [
    "# Test local server 8241\n",
    "response = requests.get('http://0.0.0.0:8241/upload')\n",
    "print(response.text)"
   ]
  },
  {
   "cell_type": "code",
   "execution_count": null,
   "metadata": {},
   "outputs": [],
   "source": [
    "# Test code without server\n",
    "%run ./algo.py"
   ]
  },
  {
   "cell_type": "code",
   "execution_count": null,
   "metadata": {},
   "outputs": [],
   "source": [
    "# Test file/payload upload\n",
    "!curl -F file=@/home/jovyan/aixpact/project/sales2.csv http://localhost:8241/filename"
   ]
  },
  {
   "cell_type": "code",
   "execution_count": null,
   "metadata": {},
   "outputs": [],
   "source": [
    "# Test file/payload upload\n",
    "!curl -F file=@/home/jovyan/aixpact/project/sales2.csv http://localhost:8241/files"
   ]
  },
  {
   "cell_type": "code",
   "execution_count": null,
   "metadata": {},
   "outputs": [],
   "source": [
    "# Test containerised server with upload file\n",
    "# !rm preds.csv\n",
    "!curl -F file=@/home/jovyan/aixpact/project/sales2.csv http://localhost:8241/upload #>> preds.csv"
   ]
  },
  {
   "cell_type": "code",
   "execution_count": null,
   "metadata": {},
   "outputs": [],
   "source": [
    "# Test containerised server with upload file\n",
    "# !rm preds.csv\n",
    "!curl https://aixpact.azurewebsites.net/upload #>> preds.csv"
   ]
  },
  {
   "cell_type": "code",
   "execution_count": null,
   "metadata": {},
   "outputs": [],
   "source": [
    "# Test containerised server with upload file\n",
    "# !rm preds.csv\n",
    "!curl -F file=@/home/jovyan/aixpact/project/sales2.csv https://aixpact.azurewebsites.net/upload #>> preds.csv"
   ]
  },
  {
   "cell_type": "code",
   "execution_count": null,
   "metadata": {},
   "outputs": [],
   "source": [
    "# Test containerised server with upload file\n",
    "!rm /home/jovyan/aixpact/project/preds.csv\n",
    "!curl -F file=@/home/jovyan/aixpact/project/sales2.csv http://localhost:8241/upload >> /home/jovyan/aixpact/project/preds.csv"
   ]
  },
  {
   "cell_type": "code",
   "execution_count": null,
   "metadata": {},
   "outputs": [],
   "source": [
    "!curl https://helloaixpact.blob.core.windows.net/quickstartblobs/myblob2"
   ]
  },
  {
   "cell_type": "code",
   "execution_count": null,
   "metadata": {},
   "outputs": [],
   "source": [
    "import urllib\n",
    "\n",
    "urllib.request.urlopen('https://helloaixpact.blob.core.windows.net/quickstartblobs/myblob2')"
   ]
  },
  {
   "cell_type": "code",
   "execution_count": null,
   "metadata": {},
   "outputs": [],
   "source": []
  },
  {
   "cell_type": "code",
   "execution_count": null,
   "metadata": {},
   "outputs": [],
   "source": []
  },
  {
   "cell_type": "code",
   "execution_count": null,
   "metadata": {},
   "outputs": [],
   "source": [
    "# Test app locally without server\n",
    "!python ./hello.py -i ~/aixpact/_cases/Darwin/data/sales2.csv -o ~/aixpact/_cases/Darwin/data/sales2_pred.csv"
   ]
  },
  {
   "cell_type": "code",
   "execution_count": null,
   "metadata": {},
   "outputs": [],
   "source": [
    "# Test local server with query\n",
    "response = requests.get('http://0.0.0.0:8080/predict?inbound=~/aixpact/_cases/Darwin/data/sales2.csv&outbound=~/aixpact/_cases/Darwin/data/sales2_pred.csv')\n",
    "print(response.text)"
   ]
  },
  {
   "cell_type": "code",
   "execution_count": null,
   "metadata": {},
   "outputs": [],
   "source": [
    "# Test remote server NOT containerised - gunicorn\n",
    "response = requests.get('http://localhost/predict')\n",
    "print(response.text)"
   ]
  },
  {
   "cell_type": "code",
   "execution_count": null,
   "metadata": {},
   "outputs": [],
   "source": [
    "# !curl -F file=@/Users/frank/aixpact/_cases/Darwin/data/sales2.csv http://aixpact.ml/darwin_noos >> preds.csv"
   ]
  },
  {
   "cell_type": "code",
   "execution_count": null,
   "metadata": {},
   "outputs": [],
   "source": [
    "!curl -F file=@/Users/frank/aixpact/_cases/Darwin/data/sales2.csv http://68.183.49.59/darwin_noos >> preds.csv"
   ]
  },
  {
   "cell_type": "code",
   "execution_count": null,
   "metadata": {},
   "outputs": [],
   "source": [
    "!curl http://68.183.49.59/"
   ]
  },
  {
   "cell_type": "code",
   "execution_count": null,
   "metadata": {},
   "outputs": [],
   "source": [
    "!curl http://www.aixpact.ml/api/httptrigger?name=frank\n",
    "!curl https://hello-aixpact.azurewebsites.net/api/HttpTrigger?name=frank"
   ]
  },
  {
   "cell_type": "code",
   "execution_count": null,
   "metadata": {},
   "outputs": [],
   "source": [
    "!curl https://aixpact.azurewebsites.net"
   ]
  },
  {
   "cell_type": "code",
   "execution_count": null,
   "metadata": {},
   "outputs": [],
   "source": [
    "!curl http://ebbers.ml/"
   ]
  },
  {
   "cell_type": "markdown",
   "metadata": {},
   "source": [
    "### Redis with dashboard\n",
    "\n",
    "http://localhost:9181  \n",
    "http://localhost:5004  "
   ]
  },
  {
   "cell_type": "code",
   "execution_count": null,
   "metadata": {},
   "outputs": [],
   "source": [
    "# !curl -F file=@/Users/frank/aixpact/_cases/Darwin/data/sales2.csv http://localhost:5004/predict\n",
    "\n",
    "!curl -F file=@/Users/frank/aixpact/_cases/Darwin/data/sales2.csv http://68.183.49.59:5004/predict"
   ]
  },
  {
   "cell_type": "code",
   "execution_count": null,
   "metadata": {},
   "outputs": [],
   "source": [
    "# !curl http://localhost:5004/tasks/\"d1683b33-8a19-4519-9015-3d34f86a01ef\"\n",
    "        \n",
    "!curl http://68.183.49.59:5004/tasks/\"11564500-f1a3-474a-9f44-90a60e17b3f2\""
   ]
  },
  {
   "cell_type": "code",
   "execution_count": null,
   "metadata": {},
   "outputs": [],
   "source": [
    "!curl -F type=1 http://localhost:5004/tasks"
   ]
  },
  {
   "cell_type": "code",
   "execution_count": null,
   "metadata": {},
   "outputs": [],
   "source": [
    "!curl"
   ]
  },
  {
   "cell_type": "code",
   "execution_count": null,
   "metadata": {},
   "outputs": [],
   "source": [
    "text = b'\"Style\",\"Color\",\"Size\",\"Divisie\",\"Hoofdgroep\",\"Subgroep\",\"Subsubgroep\",\"Jaar\",\"Maand\",\"Quantity\"\\r\\n\"100001\",\"1\",\"1\",\"1\",\"11\",\"110\",\"00\",\"2016\",\"1\",\"13455\"\\r\\n\"100001\",\"1\",\"1\",\"1\",\"11\",\"110\",\"00\",\"2016\",\"2\",\"15450\"\\r\\n\"100001\",\"1\",\"1\",\"1\",\"11\",\"110\",\"00\",\"2016\",\"3\",\"13586\"\\r\\n\"100001\",\"1\",\"1\",\"1\",\"11\",\"110\",\"00\",\"2016\",\"4\",\"15153\"\\r\\n\"100001\",\"1\",\"1\",\"1\",\"11\",\"110\",\"00\",\"2016\",\"5\",\"16146\"\\r\\n\"100001\",\"1\",\"1\",\"1\",\"11\",\"110\",\"00\",\"2016\",\"6\",\"17989\"\\r\\n\"100001\",\"1\",\"1\",\"1\",\"11\",\"110\",\"00\",\"2016\",\"7\",\"15737\"\\r\\n\"100001\",\"1\",\"1\",\"1\",\"11\",\"110\",\"00\",\"2016\",\"8\",\"13799\"\\r\\n\"100001\",\"1\",\"1\",\"1\",\"11\",\"110\",\"00\",\"2016\",\"9\",\"15216\"\\r\\n\"100001\",\"1\",\"1\",\"1\",\"11\",\"110\",\"00\",\"2016\",\"10\",\"13690\"\\r\\n\"100001\",\"1\",\"1\",\"1\",\"11\",\"110\",\"00\",\"2016\",\"11\",\"10057\"\\r\\n\"100001\",\"1\",\"1\",\"1\",\"11\",\"110\",\"00\",\"2016\",\"12\",\"11528\"\\r\\n\"100001\",\"1\",\"1\",\"1\",\"11\",\"110\",\"00\",\"2017\",\"1\",\"10836\"\\r\\n\"100001\",\"1\",\"1\",\"1\",\"11\",\"110\",\"00\",\"2017\",\"2\",\"16187\"\\r\\n\"100001\",\"1\",\"1\",\"1\",\"11\",\"110\",\"00\",\"2017\",\"3\",\"18370\"\\r\\n\"100001\",\"1\",\"1\",\"1\",\"11\",\"110\",\"00\",\"2017\",\"4\",\"16099\"\\r\\n\"100001\",\"1\",\"1\",\"1\",\"11\",\"110\",\"00\",\"2017\",\"5\",\"21654\"\\r\\n\"100001\",\"1\",\"1\",\"1\",\"11\",\"110\",\"00\",\"2017\",\"6\",\"19916\"\\r\\n\"100001\",\"1\",\"1\",\"1\",\"11\",\"110\",\"00\",\"2017\",\"7\",\"15144\"\\r\\n\"100001\",\"1\",\"1\",\"1\",\"11\",\"110\",\"00\",\"2017\",\"8\",\"17905\"\\r\\n\"100001\",\"1\",\"1\",\"1\",\"11\",\"110\",\"00\",\"2017\",\"9\",\"15560\"\\r\\n\"100001\",\"1\",\"1\",\"1\",\"11\",\"110\",\"00\",\"2017\",\"10\",\"16506\"\\r\\n\"100001\",\"1\",\"1\",\"1\",\"11\",\"110\",\"00\",\"2017\",\"11\",\"14977\"\\r\\n\"100001\",\"1\",\"1\",\"1\",\"11\",\"110\",\"00\",\"2017\",\"12\",\"13785\"\\r\\n\"100001\",\"1\",\"1\",\"1\",\"11\",\"110\",\"00\",\"2018\",\"1\",\"14989\"\\r\\n\"100001\",\"1\",\"1\",\"1\",\"11\",\"110\",\"00\",\"2018\",\"2\",\"17632\"\\r\\n\"100001\",\"1\",\"1\",\"1\",\"11\",\"110\",\"00\",\"2018\",\"3\",\"19867\"\\r\\n\"100001\",\"1\",\"1\",\"1\",\"11\",\"110\",\"00\",\"2018\",\"4\",\"20546\"\\r\\n\"100001\",\"1\",\"1\",\"1\",\"11\",\"110\",\"00\",\"2018\",\"5\",\"27313\"\\r\\n\"100001\",\"1\",\"1\",\"1\",\"11\",\"110\",\"00\",\"2018\",\"6\",\"29795\"\\r\\n\"100001\",\"1\",\"1\",\"1\",\"11\",\"110\",\"00\",\"2018\",\"7\",\"15831\"\\r\\n\"100001\",\"1\",\"1\",\"1\",\"11\",\"110\",\"00\",\"2018\",\"8\",\"7625\"\\r\\n\"100001\",\"1\",\"1\",\"1\",\"11\",\"110\",\"00\",\"2018\",\"9\",\"7738\"\\r\\n\"100001\",\"1\",\"1\",\"1\",\"11\",\"110\",\"00\",\"2018\",\"10\",\"6682\"\\r\\n\"100001\",\"1\",\"1\",\"1\",\"11\",\"110\",\"00\",\"2018\",\"11\",\"5573\"\\r\\n\"100001\",\"1\",\"1\",\"1\",\"11\",\"110\",\"00\",\"2018\",\"12\",\"5496\"\\r\\n\"100002\",\"1\",\"1\",\"1\",\"11\",\"110\",\"00\",\"2016\",\"1\",\"25712\"\\r\\n\"100002\",\"1\",\"1\",\"1\",\"11\",\"110\",\"00\",\"2016\",\"2\",\"16710\"\\r\\n\"100002\",\"1\",\"1\",\"1\",\"11\",\"110\",\"00\",\"2016\",\"3\",\"7815\"\\r\\n\"100002\",\"1\",\"1\",\"1\",\"11\",\"110\",\"00\",\"2016\",\"4\",\"3533\"\\r\\n\"100002\",\"1\",\"1\",\"1\",\"11\",\"110\",\"00\",\"2016\",\"5\",\"2550\"\\r\\n\"100002\",\"1\",\"1\",\"1\",\"11\",\"110\",\"00\",\"2016\",\"6\",\"23261\"\\r\\n\"100002\",\"1\",\"1\",\"1\",\"11\",\"110\",\"00\",\"2016\",\"7\",\"13092\"\\r\\n\"100002\",\"1\",\"1\",\"1\",\"11\",\"110\",\"00\",\"2016\",\"8\",\"10723\"\\r\\n\"100002\",\"1\",\"1\",\"1\",\"11\",\"110\",\"00\",\"2016\",\"9\",\"19423\"\\r\\n\"100002\",\"1\",\"1\",\"1\",\"11\",\"110\",\"00\",\"2016\",\"10\",\"24344\"\\r\\n\"100002\",\"1\",\"1\",\"1\",\"11\",\"110\",\"00\",\"2016\",\"11\",\"24337\"\\r\\n\"100002\",\"1\",\"1\",\"1\",\"11\",\"110\",\"00\",\"2016\",\"12\",\"24136\"\\r\\n\"100002\",\"1\",\"1\",\"1\",\"11\",\"110\",\"00\",\"2017\",\"1\",\"23008\"\\r\\n\"100002\",\"1\",\"1\",\"1\",\"11\",\"110\",\"00\",\"2017\",\"2\",\"22508\"\\r\\n\"100002\",\"1\",\"1\",\"1\",\"11\",\"110\",\"00\",\"2017\",\"3\",\"23598\"\\r\\n\"100002\",\"1\",\"1\",\"1\",\"11\",\"110\",\"00\",\"2017\",\"4\",\"22242\"\\r\\n\"100002\",\"1\",\"1\",\"1\",\"11\",\"110\",\"00\",\"2017\",\"5\",\"19783\"\\r\\n\"100002\",\"1\",\"1\",\"1\",\"11\",\"110\",\"00\",\"2017\",\"6\",\"18957\"\\r\\n\"100002\",\"1\",\"1\",\"1\",\"11\",\"110\",\"00\",\"2017\",\"7\",\"19483\"\\r\\n\"100002\",\"1\",\"1\",\"1\",\"11\",\"110\",\"00\",\"2017\",\"8\",\"18176\"\\r\\n\"100002\",\"1\",\"1\",\"1\",\"11\",\"110\",\"00\",\"2017\",\"9\",\"18703\"\\r\\n\"100002\",\"1\",\"1\",\"1\",\"11\",\"110\",\"00\",\"2017\",\"10\",\"18287\"\\r\\n\"100002\",\"1\",\"1\",\"1\",\"11\",\"110\",\"00\",\"2017\",\"11\",\"18648\"\\r\\n\"100002\",\"1\",\"1\",\"1\",\"11\",\"110\",\"00\",\"2017\",\"12\",\"23575\"\\r\\n\"100002\",\"1\",\"1\",\"1\",\"11\",\"110\",\"00\",\"2018\",\"1\",\"25750\"\\r\\n\"100002\",\"1\",\"1\",\"1\",\"11\",\"110\",\"00\",\"2018\",\"2\",\"20698\"\\r\\n\"100002\",\"1\",\"1\",\"1\",\"11\",\"110\",\"00\",\"2018\",\"3\",\"23201\"\\r\\n\"100002\",\"1\",\"1\",\"1\",\"11\",\"110\",\"00\",\"2018\",\"4\",\"22184\"\\r\\n\"100002\",\"1\",\"1\",\"1\",\"11\",\"110\",\"00\",\"2018\",\"5\",\"26432\"\\r\\n\"100002\",\"1\",\"1\",\"1\",\"11\",\"110\",\"00\",\"2018\",\"6\",\"27974\"\\r\\n\"100002\",\"1\",\"1\",\"1\",\"11\",\"110\",\"00\",\"2018\",\"7\",\"20415\"\\r\\n\"100002\",\"1\",\"1\",\"1\",\"11\",\"110\",\"00\",\"2018\",\"8\",\"20219\"\\r\\n\"100002\",\"1\",\"1\",\"1\",\"11\",\"110\",\"00\",\"2018\",\"9\",\"20535\"\\r\\n\"100002\",\"1\",\"1\",\"1\",\"11\",\"110\",\"00\",\"2018\",\"10\",\"23058\"\\r\\n\"100002\",\"1\",\"1\",\"1\",\"11\",\"110\",\"00\",\"2018\",\"11\",\"25500\"\\r\\n\"100002\",\"1\",\"1\",\"1\",\"11\",\"110\",\"00\",\"2018\",\"12\",\"23403\"\\r\\n\\r\\n\\r\\nPOST http://localhost:7071/api/HttpTrigger\\r\\nContent-Type: multipart/form-data\\r\\n\\r\\n\"Style\",\"Color\",\"Size\",\"Divisie\",\"Hoofdgroep\",\"Subgroep\",\"Subsubgroep\",\"Jaar\",\"Maand\",\"Quantity\"\\r\\n\"100001\",\"1\",\"1\",\"1\",\"11\",\"110\",\"00\",\"2016\",\"1\",\"13455\"\\r\\n\"100001\",\"1\",\"1\",\"1\",\"11\",\"110\",\"00\",\"2016\",\"2\",\"15450\"\\r\\n\"100001\",\"1\",\"1\",\"1\",\"11\",\"110\",\"00\",\"2016\",\"3\",\"13586\"\\r\\n\"100001\",\"1\",\"1\",\"1\",\"11\",\"110\",\"00\",\"2016\",\"4\",\"15153\"\\r\\n\"100001\",\"1\",\"1\",\"1\",\"11\",\"110\",\"00\",\"2016\",\"5\",\"16146\"\\r\\n\"100001\",\"1\",\"1\",\"1\",\"11\",\"110\",\"00\",\"2016\",\"6\",\"17989\"\\r\\n\"100001\",\"1\",\"1\",\"1\",\"11\",\"110\",\"00\",\"2016\",\"7\",\"15737\"\\r\\n\"100001\",\"1\",\"1\",\"1\",\"11\",\"110\",\"00\",\"2016\",\"8\",\"13799\"\\r\\n\"100001\",\"1\",\"1\",\"1\",\"11\",\"110\",\"00\",\"2016\",\"9\",\"15216\"\\r\\n\"100001\",\"1\",\"1\",\"1\",\"11\",\"110\",\"00\",\"2016\",\"10\",\"13690\"\\r\\n\"100001\",\"1\",\"1\",\"1\",\"11\",\"110\",\"00\",\"2016\",\"11\",\"10057\"\\r\\n\"100001\",\"1\",\"1\",\"1\",\"11\",\"110\",\"00\",\"2016\",\"12\",\"11528\"\\r\\n\"100001\",\"1\",\"1\",\"1\",\"11\",\"110\",\"00\",\"2017\",\"1\",\"10836\"\\r\\n\"100001\",\"1\",\"1\",\"1\",\"11\",\"110\",\"00\",\"2017\",\"2\",\"16187\"\\r\\n\"100001\",\"1\",\"1\",\"1\",\"11\",\"110\",\"00\",\"2017\",\"3\",\"18370\"\\r\\n\"100001\",\"1\",\"1\",\"1\",\"11\",\"110\",\"00\",\"2017\",\"4\",\"16099\"\\r\\n\"100001\",\"1\",\"1\",\"1\",\"11\",\"110\",\"00\",\"2017\",\"5\",\"21654\"\\r\\n\"100001\",\"1\",\"1\",\"1\",\"11\",\"110\",\"00\",\"2017\",\"6\",\"19916\"\\r\\n\"100001\",\"1\",\"1\",\"1\",\"11\",\"110\",\"00\",\"2017\",\"7\",\"15144\"\\r\\n\"100001\",\"1\",\"1\",\"1\",\"11\",\"110\",\"00\",\"2017\",\"8\",\"17905\"\\r\\n\"100001\",\"1\",\"1\",\"1\",\"11\",\"110\",\"00\",\"2017\",\"9\",\"15560\"\\r\\n\"100001\",\"1\",\"1\",\"1\",\"11\",\"110\",\"00\",\"2017\",\"10\",\"16506\"\\r\\n\"100001\",\"1\",\"1\",\"1\",\"11\",\"110\",\"00\",\"2017\",\"11\",\"14977\"\\r\\n\"100001\",\"1\",\"1\",\"1\",\"11\",\"110\",\"00\",\"2017\",\"12\",\"13785\"\\r\\n\"100001\",\"1\",\"1\",\"1\",\"11\",\"110\",\"00\",\"2018\",\"1\",\"14989\"\\r\\n\"100001\",\"1\",\"1\",\"1\",\"11\",\"110\",\"00\",\"2018\",\"2\",\"17632\"\\r\\n\"100001\",\"1\",\"1\",\"1\",\"11\",\"110\",\"00\",\"2018\",\"3\",\"19867\"\\r\\n\"100001\",\"1\",\"1\",\"1\",\"11\",\"110\",\"00\",\"2018\",\"4\",\"20546\"\\r\\n\"100001\",\"1\",\"1\",\"1\",\"11\",\"110\",\"00\",\"2018\",\"5\",\"27313\"\\r\\n\"100001\",\"1\",\"1\",\"1\",\"11\",\"110\",\"00\",\"2018\",\"6\",\"29795\"\\r\\n\"100001\",\"1\",\"1\",\"1\",\"11\",\"110\",\"00\",\"2018\",\"7\",\"15831\"\\r\\n\"100001\",\"1\",\"1\",\"1\",\"11\",\"110\",\"00\",\"2018\",\"8\",\"7625\"\\r\\n\"100001\",\"1\",\"1\",\"1\",\"11\",\"110\",\"00\",\"2018\",\"9\",\"7738\"\\r\\n\"100001\",\"1\",\"1\",\"1\",\"11\",\"110\",\"00\",\"2018\",\"10\",\"6682\"\\r\\n\"100001\",\"1\",\"1\",\"1\",\"11\",\"110\",\"00\",\"2018\",\"11\",\"5573\"\\r\\n\"100001\",\"1\",\"1\",\"1\",\"11\",\"110\",\"00\",\"2018\",\"12\",\"5496\"\\r\\n\"100002\",\"1\",\"1\",\"1\",\"11\",\"110\",\"00\",\"2016\",\"1\",\"25712\"\\r\\n\"100002\",\"1\",\"1\",\"1\",\"11\",\"110\",\"00\",\"2016\",\"2\",\"16710\"\\r\\n\"100002\",\"1\",\"1\",\"1\",\"11\",\"110\",\"00\",\"2016\",\"3\",\"7815\"\\r\\n\"100002\",\"1\",\"1\",\"1\",\"11\",\"110\",\"00\",\"2016\",\"4\",\"3533\"\\r\\n\"100002\",\"1\",\"1\",\"1\",\"11\",\"110\",\"00\",\"2016\",\"5\",\"2550\"\\r\\n\"100002\",\"1\",\"1\",\"1\",\"11\",\"110\",\"00\",\"2016\",\"6\",\"23261\"\\r\\n\"100002\",\"1\",\"1\",\"1\",\"11\",\"110\",\"00\",\"2016\",\"7\",\"13092\"\\r\\n\"100002\",\"1\",\"1\",\"1\",\"11\",\"110\",\"00\",\"2016\",\"8\",\"10723\"\\r\\n\"100002\",\"1\",\"1\",\"1\",\"11\",\"110\",\"00\",\"2016\",\"9\",\"19423\"\\r\\n\"100002\",\"1\",\"1\",\"1\",\"11\",\"110\",\"00\",\"2016\",\"10\",\"24344\"\\r\\n\"100002\",\"1\",\"1\",\"1\",\"11\",\"110\",\"00\",\"2016\",\"11\",\"24337\"\\r\\n\"100002\",\"1\",\"1\",\"1\",\"11\",\"110\",\"00\",\"2016\",\"12\",\"24136\"\\r\\n\"100002\",\"1\",\"1\",\"1\",\"11\",\"110\",\"00\",\"2017\",\"1\",\"23008\"\\r\\n\"100002\",\"1\",\"1\",\"1\",\"11\",\"110\",\"00\",\"2017\",\"2\",\"22508\"\\r\\n\"100002\",\"1\",\"1\",\"1\",\"11\",\"110\",\"00\",\"2017\",\"3\",\"23598\"\\r\\n\"100002\",\"1\",\"1\",\"1\",\"11\",\"110\",\"00\",\"2017\",\"4\",\"22242\"\\r\\n\"100002\",\"1\",\"1\",\"1\",\"11\",\"110\",\"00\",\"2017\",\"5\",\"19783\"\\r\\n\"100002\",\"1\",\"1\",\"1\",\"11\",\"110\",\"00\",\"2017\",\"6\",\"18957\"\\r\\n\"100002\",\"1\",\"1\",\"1\",\"11\",\"110\",\"00\",\"2017\",\"7\",\"19483\"\\r\\n\"100002\",\"1\",\"1\",\"1\",\"11\",\"110\",\"00\",\"2017\",\"8\",\"18176\"\\r\\n\"100002\",\"1\",\"1\",\"1\",\"11\",\"110\",\"00\",\"2017\",\"9\",\"18703\"\\r\\n\"100002\",\"1\",\"1\",\"1\",\"11\",\"110\",\"00\",\"2017\",\"10\",\"18287\"\\r\\n\"100002\",\"1\",\"1\",\"1\",\"11\",\"110\",\"00\",\"2017\",\"11\",\"18648\"\\r\\n\"100002\",\"1\",\"1\",\"1\",\"11\",\"110\",\"00\",\"2017\",\"12\",\"23575\"\\r\\n\"100002\",\"1\",\"1\",\"1\",\"11\",\"110\",\"00\",\"2018\",\"1\",\"25750\"\\r\\n\"100002\",\"1\",\"1\",\"1\",\"11\",\"110\",\"00\",\"2018\",\"2\",\"20698\"\\r\\n\"100002\",\"1\",\"1\",\"1\",\"11\",\"110\",\"00\",\"2018\",\"3\",\"23201\"\\r\\n\"100002\",\"1\",\"1\",\"1\",\"11\",\"110\",\"00\",\"2018\",\"4\",\"22184\"\\r\\n\"100002\",\"1\",\"1\",\"1\",\"11\",\"110\",\"00\",\"2018\",\"5\",\"26432\"\\r\\n\"100002\",\"1\",\"1\",\"1\",\"11\",\"110\",\"00\",\"2018\",\"6\",\"27974\"\\r\\n\"100002\",\"1\",\"1\",\"1\",\"11\",\"110\",\"00\",\"2018\",\"7\",\"20415\"\\r\\n\"100002\",\"1\",\"1\",\"1\",\"11\",\"110\",\"00\",\"2018\",\"8\",\"20219\"\\r\\n\"100002\",\"1\",\"1\",\"1\",\"11\",\"110\",\"00\",\"2018\",\"9\",\"20535\"\\r\\n\"100002\",\"1\",\"1\",\"1\",\"11\",\"110\",\"00\",\"2018\",\"10\",\"23058\"\\r\\n\"100002\",\"1\",\"1\",\"1\",\"11\",\"110\",\"00\",\"2018\",\"11\",\"25500\"\\r\\n\"100002\",\"1\",\"1\",\"1\",\"11\",\"110\",\"00\",\"2018\",\"12\",\"23403\"'\n",
    "text"
   ]
  },
  {
   "cell_type": "code",
   "execution_count": null,
   "metadata": {},
   "outputs": [],
   "source": [
    "def split_binary(text):\n",
    "    \"\"\"\"\"\"\n",
    "    ll = text.decode('utf-8').split()\n",
    "    for x in ll:\n",
    "        try:\n",
    "            print(ast.literal_eval(x))\n",
    "        except:\n",
    "            continue\n",
    "split_binary(text)"
   ]
  },
  {
   "cell_type": "code",
   "execution_count": null,
   "metadata": {},
   "outputs": [],
   "source": [
    "def binary2csv(text, path):\n",
    "    \"\"\"\"\"\"\n",
    "    import ast\n",
    "    import pandas as pd\n",
    "    lines = []\n",
    "    for x in text.decode('utf-8').split():\n",
    "        try:\n",
    "            lines.append(ast.literal_eval(x))\n",
    "        except:\n",
    "            continue\n",
    "    df = pd.DataFrame(lines)\n",
    "    df.columns = df.iloc[0]\n",
    "    df = df[1:]\n",
    "    df.to_csv(path, index=False) \n",
    "    return pd.read_csv(path)\n",
    "\n",
    "binary2csv(text, 'dummy_fje.csv')"
   ]
  },
  {
   "cell_type": "code",
   "execution_count": null,
   "metadata": {},
   "outputs": [],
   "source": [
    "import pandas as pd\n",
    "pd.DataFrame(text)"
   ]
  },
  {
   "cell_type": "code",
   "execution_count": null,
   "metadata": {},
   "outputs": [],
   "source": [
    "text.to_list()"
   ]
  },
  {
   "cell_type": "code",
   "execution_count": null,
   "metadata": {},
   "outputs": [],
   "source": [
    "import ast\n",
    "x = u'[ \"A\",\"B\",\"C\" , \" D\"]'\n",
    "ast.literal_eval(x)"
   ]
  },
  {
   "cell_type": "code",
   "execution_count": null,
   "metadata": {},
   "outputs": [],
   "source": []
  }
 ],
 "metadata": {
  "language_info": {
   "name": "python",
   "pygments_lexer": "ipython3"
  }
 },
 "nbformat": 4,
 "nbformat_minor": 2
}
