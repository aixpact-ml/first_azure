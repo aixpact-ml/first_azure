{
 "cells": [
  {
   "cell_type": "markdown",
   "metadata": {},
   "source": [
    "# Test localhost"
   ]
  },
  {
   "cell_type": "code",
   "execution_count": null,
   "metadata": {},
   "outputs": [],
   "source": [
    "import requests"
   ]
  },
  {
   "cell_type": "code",
   "execution_count": null,
   "metadata": {},
   "outputs": [],
   "source": [
    "%run algo"
   ]
  },
  {
   "cell_type": "code",
   "execution_count": null,
   "metadata": {},
   "outputs": [],
   "source": [
    "!curl http://0.0.0.0:8241/"
   ]
  },
  {
   "cell_type": "code",
   "execution_count": null,
   "metadata": {},
   "outputs": [],
   "source": [
    "!curl https://hello-aixpact.azurewebsites.net/api/HttpTrigger?name=Frank"
   ]
  },
  {
   "cell_type": "code",
   "execution_count": null,
   "metadata": {},
   "outputs": [],
   "source": [
    "!curl https://aixpact.azurewebsites.net\n",
    "!curl https://aixpact.ml?name=Frank"
   ]
  },
  {
   "cell_type": "code",
   "execution_count": null,
   "metadata": {},
   "outputs": [],
   "source": [
    "!curl https://ebbers.ml?name=Frank"
   ]
  },
  {
   "cell_type": "code",
   "execution_count": null,
   "metadata": {},
   "outputs": [],
   "source": [
    "# Test local server 8241\n",
    "response = requests.get('http://0.0.0.0:8241')\n",
    "print(response.text)"
   ]
  },
  {
   "cell_type": "code",
   "execution_count": null,
   "metadata": {},
   "outputs": [],
   "source": [
    "!curl http://0.0.0.0:8241/files"
   ]
  },
  {
   "cell_type": "code",
   "execution_count": null,
   "metadata": {},
   "outputs": [],
   "source": [
    "!curl http://0.0.0.0:8241/upload"
   ]
  },
  {
   "cell_type": "code",
   "execution_count": null,
   "metadata": {},
   "outputs": [],
   "source": [
    "# Test local server 8241\n",
    "response = requests.get('http://0.0.0.0:8241/upload')\n",
    "print(response.text)"
   ]
  },
  {
   "cell_type": "code",
   "execution_count": null,
   "metadata": {},
   "outputs": [],
   "source": [
    "# Test code without server\n",
    "%run ./algo.py"
   ]
  },
  {
   "cell_type": "code",
   "execution_count": null,
   "metadata": {},
   "outputs": [],
   "source": [
    "# Test file/payload upload\n",
    "!curl -F file=@/home/jovyan/aixpact/project/sales2.csv http://localhost:8241/filename"
   ]
  },
  {
   "cell_type": "code",
   "execution_count": null,
   "metadata": {},
   "outputs": [],
   "source": [
    "# Test containerised server with upload file\n",
    "# !rm preds.csv\n",
    "!curl -F file=@/home/jovyan/aixpact/project/sales2.csv http://localhost:8241/upload #>> preds.csv"
   ]
  },
  {
   "cell_type": "code",
   "execution_count": null,
   "metadata": {},
   "outputs": [],
   "source": [
    "# Test containerised server with upload file\n",
    "!rm /home/jovyan/aixpact/project/preds.csv\n",
    "!curl -F file=@/home/jovyan/aixpact/project/sales2.csv http://localhost:8241/upload >> /home/jovyan/aixpact/project/preds.csv"
   ]
  },
  {
   "cell_type": "code",
   "execution_count": null,
   "metadata": {},
   "outputs": [],
   "source": []
  },
  {
   "cell_type": "code",
   "execution_count": null,
   "metadata": {},
   "outputs": [],
   "source": []
  },
  {
   "cell_type": "code",
   "execution_count": null,
   "metadata": {},
   "outputs": [],
   "source": []
  },
  {
   "cell_type": "code",
   "execution_count": null,
   "metadata": {},
   "outputs": [],
   "source": [
    "# Test app locally without server\n",
    "!python ./hello.py -i ~/aixpact/_cases/Darwin/data/sales2.csv -o ~/aixpact/_cases/Darwin/data/sales2_pred.csv"
   ]
  },
  {
   "cell_type": "code",
   "execution_count": null,
   "metadata": {},
   "outputs": [],
   "source": [
    "# Test local server with query\n",
    "response = requests.get('http://0.0.0.0:8080/predict?inbound=~/aixpact/_cases/Darwin/data/sales2.csv&outbound=~/aixpact/_cases/Darwin/data/sales2_pred.csv')\n",
    "print(response.text)"
   ]
  },
  {
   "cell_type": "code",
   "execution_count": null,
   "metadata": {},
   "outputs": [],
   "source": [
    "# Test remote server NOT containerised - gunicorn\n",
    "response = requests.get('http://localhost/predict')\n",
    "print(response.text)"
   ]
  },
  {
   "cell_type": "code",
   "execution_count": null,
   "metadata": {},
   "outputs": [],
   "source": [
    "# !curl -F file=@/Users/frank/aixpact/_cases/Darwin/data/sales2.csv http://aixpact.ml/darwin_noos >> preds.csv"
   ]
  },
  {
   "cell_type": "code",
   "execution_count": null,
   "metadata": {},
   "outputs": [],
   "source": [
    "!curl -F file=@/Users/frank/aixpact/_cases/Darwin/data/sales2.csv http://68.183.49.59/darwin_noos >> preds.csv"
   ]
  },
  {
   "cell_type": "code",
   "execution_count": null,
   "metadata": {},
   "outputs": [],
   "source": [
    "!curl http://68.183.49.59/"
   ]
  },
  {
   "cell_type": "code",
   "execution_count": null,
   "metadata": {},
   "outputs": [],
   "source": [
    "!curl http://www.aixpact.ml/api/httptrigger?name=frank\n",
    "!curl https://hello-aixpact.azurewebsites.net/api/HttpTrigger?name=frank"
   ]
  },
  {
   "cell_type": "code",
   "execution_count": null,
   "metadata": {},
   "outputs": [],
   "source": [
    "!curl https://aixpact.azurewebsites.net"
   ]
  },
  {
   "cell_type": "code",
   "execution_count": null,
   "metadata": {},
   "outputs": [],
   "source": [
    "!curl http://ebbers.ml/"
   ]
  },
  {
   "cell_type": "markdown",
   "metadata": {},
   "source": [
    "### Redis with dashboard\n",
    "\n",
    "http://localhost:9181  \n",
    "http://localhost:5004  "
   ]
  },
  {
   "cell_type": "code",
   "execution_count": null,
   "metadata": {},
   "outputs": [],
   "source": [
    "# !curl -F file=@/Users/frank/aixpact/_cases/Darwin/data/sales2.csv http://localhost:5004/predict\n",
    "\n",
    "!curl -F file=@/Users/frank/aixpact/_cases/Darwin/data/sales2.csv http://68.183.49.59:5004/predict"
   ]
  },
  {
   "cell_type": "code",
   "execution_count": null,
   "metadata": {},
   "outputs": [],
   "source": [
    "# !curl http://localhost:5004/tasks/\"d1683b33-8a19-4519-9015-3d34f86a01ef\"\n",
    "        \n",
    "!curl http://68.183.49.59:5004/tasks/\"11564500-f1a3-474a-9f44-90a60e17b3f2\""
   ]
  },
  {
   "cell_type": "code",
   "execution_count": null,
   "metadata": {},
   "outputs": [],
   "source": [
    "!curl -F type=1 http://localhost:5004/tasks"
   ]
  },
  {
   "cell_type": "code",
   "execution_count": null,
   "metadata": {},
   "outputs": [],
   "source": [
    "!curl"
   ]
  },
  {
   "cell_type": "code",
   "execution_count": null,
   "metadata": {},
   "outputs": [],
   "source": []
  }
 ],
 "metadata": {
  "language_info": {
   "name": "python",
   "pygments_lexer": "ipython3"
  }
 },
 "nbformat": 4,
 "nbformat_minor": 2
}
